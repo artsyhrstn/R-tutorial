{
 "cells": [
  {
   "cell_type": "markdown",
   "metadata": {},
   "source": [
    "# 1. Impor Excel"
   ]
  },
  {
   "cell_type": "code",
   "execution_count": 7,
   "metadata": {
    "vscode": {
     "languageId": "r"
    }
   },
   "outputs": [
    {
     "data": {
      "text/html": [
       "11"
      ],
      "text/latex": [
       "11"
      ],
      "text/markdown": [
       "11"
      ],
      "text/plain": [
       "[1] 11"
      ]
     },
     "metadata": {},
     "output_type": "display_data"
    }
   ],
   "source": [
    "# Import Excel\n",
    "library(readxl)\n",
    "data1 <- read_excel(\"D:\\\\Repositori\\\\R-tutorial\\\\data - R IPB\\\\Bab 2\\\\data1.xlsx\")\n",
    "length(data1)"
   ]
  },
  {
   "cell_type": "markdown",
   "metadata": {},
   "source": [
    "# 2. Mengganti Nama Variabel"
   ]
  },
  {
   "cell_type": "code",
   "execution_count": 9,
   "metadata": {
    "vscode": {
     "languageId": "r"
    }
   },
   "outputs": [],
   "source": [
    "# Mengganti nama variabel\n",
    "names(data1)[2] <- \"Outstanding KPR\"\n",
    "names(data1)[7] <- \"Inflasi\"\n",
    "names(data1)[8] <- \"CreditRate\""
   ]
  },
  {
   "cell_type": "markdown",
   "metadata": {},
   "source": [
    "# 3. Estimasi Hasil Regresi"
   ]
  },
  {
   "cell_type": "code",
   "execution_count": 10,
   "metadata": {
    "vscode": {
     "languageId": "r"
    }
   },
   "outputs": [
    {
     "data": {
      "text/plain": [
       "\n",
       "Call:\n",
       "lm(formula = LnKPR ~ LnPDB + Inflasi + CreditRate + LnJII + DFTV, \n",
       "    data = data1)\n",
       "\n",
       "Residuals:\n",
       "      Min        1Q    Median        3Q       Max \n",
       "-0.138338 -0.029350  0.004568  0.029305  0.073667 \n",
       "\n",
       "Coefficients:\n",
       "             Estimate Std. Error t value Pr(>|t|)    \n",
       "(Intercept) -21.79826    2.19407  -9.935 8.61e-14 ***\n",
       "LnPDB         2.29744    0.14887  15.432  < 2e-16 ***\n",
       "Inflasi      -0.02407    0.02223  -1.083 0.283737    \n",
       "CreditRate    0.04397    0.01081   4.067 0.000156 ***\n",
       "LnJII         0.16152    0.10803   1.495 0.140715    \n",
       "DFTV          0.18359    0.03372   5.444 1.31e-06 ***\n",
       "---\n",
       "Signif. codes:  0 '***' 0.001 '**' 0.01 '*' 0.05 '.' 0.1 ' ' 1\n",
       "\n",
       "Residual standard error: 0.04381 on 54 degrees of freedom\n",
       "Multiple R-squared:  0.9659,\tAdjusted R-squared:  0.9627 \n",
       "F-statistic: 305.6 on 5 and 54 DF,  p-value: < 2.2e-16\n"
      ]
     },
     "metadata": {},
     "output_type": "display_data"
    }
   ],
   "source": [
    "# Estimasi Regresi OLS\n",
    "regresi1 = lm(LnKPR ~ LnPDB + Inflasi + CreditRate + LnJII + DFTV, data=data1)\n",
    "summary(regresi1)"
   ]
  },
  {
   "cell_type": "markdown",
   "metadata": {},
   "source": [
    "# 4. Uji Statistik"
   ]
  },
  {
   "cell_type": "markdown",
   "metadata": {},
   "source": [
    "## 4.1 Uji Normalitas"
   ]
  },
  {
   "cell_type": "code",
   "execution_count": 12,
   "metadata": {
    "vscode": {
     "languageId": "r"
    }
   },
   "outputs": [
    {
     "data": {
      "text/plain": [
       "\n",
       "Call:\n",
       "lm(formula = LnKPR ~ LnPDB + Inflasi + CreditRate + LnJII + DFTV, \n",
       "    data = data1)\n",
       "\n",
       "Coefficients:\n",
       "(Intercept)        LnPDB      Inflasi   CreditRate        LnJII         DFTV  \n",
       "  -21.79826      2.29744     -0.02407      0.04397      0.16152      0.18359  \n",
       "\n",
       "\n",
       "ASSESSMENT OF THE LINEAR MODEL ASSUMPTIONS\n",
       "USING THE GLOBAL TEST ON 4 DEGREES-OF-FREEDOM:\n",
       "Level of Significance =  0.05 \n",
       "\n",
       "Call:\n",
       " gvlma(x = regresi1) \n",
       "\n",
       "                     Value p-value                Decision\n",
       "Global Stat        7.04469 0.13355 Assumptions acceptable.\n",
       "Skewness           3.60383 0.05765 Assumptions acceptable.\n",
       "Kurtosis           0.86268 0.35299 Assumptions acceptable.\n",
       "Link Function      2.52749 0.11188 Assumptions acceptable.\n",
       "Heteroscedasticity 0.05069 0.82187 Assumptions acceptable."
      ]
     },
     "metadata": {},
     "output_type": "display_data"
    }
   ],
   "source": [
    "# Uji Normalitas\n",
    "# install.packages(\"gvlma\")\n",
    "library(\"gvlma\")\n",
    "gvlma(regresi1)"
   ]
  },
  {
   "cell_type": "markdown",
   "metadata": {},
   "source": [
    "## 4.2 Uji Heteroskedastisitas"
   ]
  },
  {
   "cell_type": "code",
   "execution_count": 15,
   "metadata": {
    "vscode": {
     "languageId": "r"
    }
   },
   "outputs": [
    {
     "data": {
      "text/plain": [
       "Non-constant Variance Score Test \n",
       "Variance formula: ~ fitted.values \n",
       "Chisquare = 0.4905034, Df = 1, p = 0.4837"
      ]
     },
     "metadata": {},
     "output_type": "display_data"
    }
   ],
   "source": [
    "# install.packages(\"car\", dependencies = TRUE)\n",
    "library(car)\n",
    "ncvTest(regresi1)"
   ]
  },
  {
   "cell_type": "markdown",
   "metadata": {},
   "source": [
    "p > 0.05, tidak terjadi heteroskedastisitas"
   ]
  },
  {
   "cell_type": "markdown",
   "metadata": {},
   "source": [
    "## 4.3 Uji Autokorelasi"
   ]
  },
  {
   "cell_type": "code",
   "execution_count": 17,
   "metadata": {
    "vscode": {
     "languageId": "r"
    }
   },
   "outputs": [
    {
     "data": {
      "text/plain": [
       "\n",
       "\tDurbin-Watson test\n",
       "\n",
       "data:  regresi1\n",
       "DW = 0.58729, p-value = 9.399e-13\n",
       "alternative hypothesis: true autocorrelation is greater than 0\n"
      ]
     },
     "metadata": {},
     "output_type": "display_data"
    }
   ],
   "source": [
    "# install.packages(\"lmtest\")\n",
    "library(lmtest)\n",
    "dwtest(regresi1)"
   ]
  },
  {
   "cell_type": "markdown",
   "metadata": {},
   "source": [
    "## 4.4. Uji Multikolinearitas"
   ]
  },
  {
   "cell_type": "code",
   "execution_count": 19,
   "metadata": {
    "vscode": {
     "languageId": "r"
    }
   },
   "outputs": [
    {
     "data": {
      "text/html": [
       "<style>\n",
       ".dl-inline {width: auto; margin:0; padding: 0}\n",
       ".dl-inline>dt, .dl-inline>dd {float: none; width: auto; display: inline-block}\n",
       ".dl-inline>dt::after {content: \":\\0020\"; padding-right: .5ex}\n",
       ".dl-inline>dt:not(:first-of-type) {padding-left: .5ex}\n",
       "</style><dl class=dl-inline><dt>LnPDB</dt><dd>4.01153252023041</dd><dt>Inflasi</dt><dd>1.41239830882475</dd><dt>CreditRate</dt><dd>5.36898905895557</dd><dt>LnJII</dt><dd>1.82859187063674</dd><dt>DFTV</dt><dd>8.40444347050085</dd></dl>\n"
      ],
      "text/latex": [
       "\\begin{description*}\n",
       "\\item[LnPDB] 4.01153252023041\n",
       "\\item[Inflasi] 1.41239830882475\n",
       "\\item[CreditRate] 5.36898905895557\n",
       "\\item[LnJII] 1.82859187063674\n",
       "\\item[DFTV] 8.40444347050085\n",
       "\\end{description*}\n"
      ],
      "text/markdown": [
       "LnPDB\n",
       ":   4.01153252023041Inflasi\n",
       ":   1.41239830882475CreditRate\n",
       ":   5.36898905895557LnJII\n",
       ":   1.82859187063674DFTV\n",
       ":   8.40444347050085\n",
       "\n"
      ],
      "text/plain": [
       "     LnPDB    Inflasi CreditRate      LnJII       DFTV \n",
       "  4.011533   1.412398   5.368989   1.828592   8.404443 "
      ]
     },
     "metadata": {},
     "output_type": "display_data"
    }
   ],
   "source": [
    "# install.packages(\"car\")\n",
    "library(car)\n",
    "vif(regresi1)"
   ]
  },
  {
   "cell_type": "markdown",
   "metadata": {},
   "source": [
    "## 4.5 Mengatasi Masalah Heteroskedastisitas dan Autokorelasi"
   ]
  },
  {
   "cell_type": "code",
   "execution_count": 27,
   "metadata": {
    "vscode": {
     "languageId": "r"
    }
   },
   "outputs": [
    {
     "ename": "ERROR",
     "evalue": "Error: object 'HC0' not found\n",
     "output_type": "error",
     "traceback": [
      "Error: object 'HC0' not found\nTraceback:\n",
      "1. coeftest.default(regresi1, vcov. = HC0)",
      "2. .handleSimpleError(function (cnd) \n . {\n .     watcher$capture_plot_and_output()\n .     cnd <- sanitize_call(cnd)\n .     watcher$push(cnd)\n .     switch(on_error, continue = invokeRestart(\"eval_continue\"), \n .         stop = invokeRestart(\"eval_stop\"), error = invokeRestart(\"eval_error\", \n .             cnd))\n . }, \"object 'HC0' not found\", base::quote(eval(expr, envir)))"
     ]
    }
   ],
   "source": [
    "coeftest(regresi1,vcov = )"
   ]
  }
 ],
 "metadata": {
  "kernelspec": {
   "display_name": "R",
   "language": "R",
   "name": "ir"
  },
  "language_info": {
   "codemirror_mode": "r",
   "file_extension": ".r",
   "mimetype": "text/x-r-source",
   "name": "R",
   "pygments_lexer": "r",
   "version": "4.4.1"
  }
 },
 "nbformat": 4,
 "nbformat_minor": 2
}
