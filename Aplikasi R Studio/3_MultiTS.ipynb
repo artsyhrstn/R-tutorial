{
 "cells": [
  {
   "cell_type": "markdown",
   "metadata": {},
   "source": [
    "# Multivariate Time Series: VAR, VECM, SVAR, dan ARDL"
   ]
  },
  {
   "cell_type": "markdown",
   "metadata": {},
   "source": [
    "## 3.1 VAR dan VECM"
   ]
  },
  {
   "cell_type": "code",
   "execution_count": 1,
   "metadata": {
    "vscode": {
     "languageId": "r"
    }
   },
   "outputs": [
    {
     "name": "stderr",
     "output_type": "stream",
     "text": [
      "Installing package into 'C:/Users/hisbi/AppData/Local/R/win-library/4.4'\n",
      "(as 'lib' is unspecified)\n",
      "\n"
     ]
    },
    {
     "name": "stdout",
     "output_type": "stream",
     "text": [
      "package 'urca' successfully unpacked and MD5 sums checked\n"
     ]
    },
    {
     "name": "stderr",
     "output_type": "stream",
     "text": [
      "Warning message:\n",
      "\"cannot remove prior installation of package 'urca'\"\n",
      "Warning message in file.copy(savedcopy, lib, recursive = TRUE):\n",
      "\"problem copying C:\\Users\\hisbi\\AppData\\Local\\R\\win-library\\4.4\\00LOCK\\urca\\libs\\x64\\urca.dll to C:\\Users\\hisbi\\AppData\\Local\\R\\win-library\\4.4\\urca\\libs\\x64\\urca.dll: Permission denied\"\n",
      "Warning message:\n",
      "\"restored 'urca'\"\n"
     ]
    },
    {
     "name": "stdout",
     "output_type": "stream",
     "text": [
      "\n",
      "The downloaded binary packages are in\n",
      "\tC:\\Users\\hisbi\\AppData\\Local\\Temp\\RtmpiIV4PL\\downloaded_packages\n"
     ]
    },
    {
     "name": "stderr",
     "output_type": "stream",
     "text": [
      "Installing package into 'C:/Users/hisbi/AppData/Local/R/win-library/4.4'\n",
      "(as 'lib' is unspecified)\n",
      "\n",
      "also installing the dependency 'strucchange'\n",
      "\n",
      "\n"
     ]
    },
    {
     "name": "stdout",
     "output_type": "stream",
     "text": [
      "package 'strucchange' successfully unpacked and MD5 sums checked\n",
      "package 'vars' successfully unpacked and MD5 sums checked\n",
      "\n",
      "The downloaded binary packages are in\n",
      "\tC:\\Users\\hisbi\\AppData\\Local\\Temp\\RtmpiIV4PL\\downloaded_packages\n"
     ]
    }
   ],
   "source": [
    "install.packages(\"urca\")\n",
    "install.packages(\"vars\")"
   ]
  },
  {
   "cell_type": "code",
   "execution_count": 8,
   "metadata": {
    "vscode": {
     "languageId": "r"
    }
   },
   "outputs": [
    {
     "data": {
      "image/png": "[encoded data removed]",
      "text/plain": [
       "plot without title"
      ]
     },
     "metadata": {
      "image/png": {
       "height": 420,
       "width": 420
      }
     },
     "output_type": "display_data"
    }
   ],
   "source": [
    "library(readxl)\n",
    "data1 <- read_excel(\"D:\\\\Repositori\\\\R-tutorial\\\\data - R IPB\\\\Bab 4\\\\VECM.xlsx\")\n",
    "# Konversi data menjadi data time series\n",
    "tsdata <- data1[,c(-1,-2,-3,-4)]\n",
    "tsdata <- ts(tsdata, start = c(2010,1),frequency = 12)\n",
    "plot(tsdata)"
   ]
  },
  {
   "cell_type": "markdown",
   "metadata": {},
   "source": [
    "### 3.1.1 Identifikasi"
   ]
  },
  {
   "cell_type": "code",
   "execution_count": 10,
   "metadata": {
    "vscode": {
     "languageId": "r"
    }
   },
   "outputs": [
    {
     "name": "stderr",
     "output_type": "stream",
     "text": [
      "\n",
      "Attaching package: 'aTSA'\n",
      "\n",
      "\n",
      "The following object is masked from 'package:graphics':\n",
      "\n",
      "    identify\n",
      "\n",
      "\n"
     ]
    },
    {
     "name": "stdout",
     "output_type": "stream",
     "text": [
      "Augmented Dickey-Fuller Test \n",
      "alternative: stationary \n",
      " \n",
      "Type 1: no drift no trend \n",
      "     lag  ADF p.value\n",
      "[1,]   0 3.25    0.99\n",
      "[2,]   1 7.29    0.99\n",
      "[3,]   2 3.75    0.99\n",
      "[4,]   3 5.84    0.99\n",
      "Type 2: with drift no trend \n",
      "     lag    ADF p.value\n",
      "[1,]   0 -0.506   0.869\n",
      "[2,]   1 -0.541   0.856\n",
      "[3,]   2 -0.727   0.791\n",
      "[4,]   3 -0.914   0.725\n",
      "Type 3: with drift and trend \n",
      "     lag   ADF p.value\n",
      "[1,]   0 -5.31  0.0100\n",
      "[2,]   1 -2.02  0.5601\n",
      "[3,]   2 -3.33  0.0732\n",
      "[4,]   3 -1.77  0.6648\n",
      "---- \n",
      "Note: in fact, p.value = 0.01 means p.value <= 0.01 \n",
      "Augmented Dickey-Fuller Test \n",
      "alternative: stationary \n",
      " \n",
      "Type 1: no drift no trend \n",
      "     lag  ADF p.value\n",
      "[1,]   0 3.09    0.99\n",
      "[2,]   1 4.89    0.99\n",
      "[3,]   2 4.21    0.99\n",
      "[4,]   3 4.52    0.99\n",
      "Type 2: with drift no trend \n",
      "     lag   ADF p.value\n",
      "[1,]   0 -1.53   0.509\n",
      "[2,]   1 -2.12   0.284\n",
      "[3,]   2 -2.04   0.315\n",
      "[4,]   3 -2.39   0.177\n",
      "Type 3: with drift and trend \n",
      "     lag   ADF p.value\n",
      "[1,]   0 -2.31   0.441\n",
      "[2,]   1 -1.50   0.776\n",
      "[3,]   2 -1.36   0.836\n",
      "[4,]   3 -1.09   0.918\n",
      "---- \n",
      "Note: in fact, p.value = 0.01 means p.value <= 0.01 \n",
      "Augmented Dickey-Fuller Test \n",
      "alternative: stationary \n",
      " \n",
      "Type 1: no drift no trend \n",
      "     lag  ADF p.value\n",
      "[1,]   0 1.03   0.916\n",
      "[2,]   1 1.45   0.961\n",
      "[3,]   2 1.81   0.981\n",
      "[4,]   3 2.09   0.990\n",
      "Type 2: with drift no trend \n",
      "     lag    ADF p.value\n",
      "[1,]   0 -1.588   0.487\n",
      "[2,]   1 -1.069   0.671\n",
      "[3,]   2 -0.493   0.873\n",
      "[4,]   3 -0.218   0.927\n",
      "Type 3: with drift and trend \n",
      "     lag   ADF p.value\n",
      "[1,]   0 -6.68    0.01\n",
      "[2,]   1 -5.35    0.01\n",
      "[3,]   2 -4.47    0.01\n",
      "[4,]   3 -4.11    0.01\n",
      "---- \n",
      "Note: in fact, p.value = 0.01 means p.value <= 0.01 \n"
     ]
    }
   ],
   "source": [
    "# Uji Stationeritas\n",
    "library(aTSA)\n",
    "adf.test(tsdata[,\"LnIHK\"])\n",
    "adf.test(tsdata[,\"LnRM2\"])\n",
    "adf.test(tsdata[,\"LnIPI\"])"
   ]
  },
  {
   "cell_type": "code",
   "execution_count": 11,
   "metadata": {
    "vscode": {
     "languageId": "r"
    }
   },
   "outputs": [
    {
     "name": "stdout",
     "output_type": "stream",
     "text": [
      "Augmented Dickey-Fuller Test \n",
      "alternative: stationary \n",
      " \n",
      "Type 1: no drift no trend \n",
      "     lag    ADF p.value\n",
      "[1,]   0 -15.36    0.01\n",
      "[2,]   1  -3.52    0.01\n",
      "[3,]   2  -4.20    0.01\n",
      "[4,]   3  -2.61    0.01\n",
      "Type 2: with drift no trend \n",
      "     lag    ADF p.value\n",
      "[1,]   0 -21.22    0.01\n",
      "[2,]   1  -5.37    0.01\n",
      "[3,]   2  -7.78    0.01\n",
      "[4,]   3  -5.55    0.01\n",
      "Type 3: with drift and trend \n",
      "     lag    ADF p.value\n",
      "[1,]   0 -21.09    0.01\n",
      "[2,]   1  -5.36    0.01\n",
      "[3,]   2  -7.79    0.01\n",
      "[4,]   3  -5.59    0.01\n",
      "---- \n",
      "Note: in fact, p.value = 0.01 means p.value <= 0.01 \n",
      "Augmented Dickey-Fuller Test \n",
      "alternative: stationary \n",
      " \n",
      "Type 1: no drift no trend \n",
      "     lag    ADF p.value\n",
      "[1,]   0 -11.73    0.01\n",
      "[2,]   1  -5.61    0.01\n",
      "[3,]   2  -4.49    0.01\n",
      "[4,]   3  -3.31    0.01\n",
      "Type 2: with drift no trend \n",
      "     lag    ADF p.value\n",
      "[1,]   0 -14.27    0.01\n",
      "[2,]   1  -7.53    0.01\n",
      "[3,]   2  -6.83    0.01\n",
      "[4,]   3  -5.62    0.01\n",
      "Type 3: with drift and trend \n",
      "     lag    ADF p.value\n",
      "[1,]   0 -14.60    0.01\n",
      "[2,]   1  -7.85    0.01\n",
      "[3,]   2  -7.34    0.01\n",
      "[4,]   3  -6.33    0.01\n",
      "---- \n",
      "Note: in fact, p.value = 0.01 means p.value <= 0.01 \n",
      "Augmented Dickey-Fuller Test \n",
      "alternative: stationary \n",
      " \n",
      "Type 1: no drift no trend \n",
      "     lag    ADF p.value\n",
      "[1,]   0 -12.46    0.01\n",
      "[2,]   1  -9.27    0.01\n",
      "[3,]   2  -7.24    0.01\n",
      "[4,]   3  -5.75    0.01\n",
      "Type 2: with drift no trend \n",
      "     lag    ADF p.value\n",
      "[1,]   0 -12.64    0.01\n",
      "[2,]   1  -9.59    0.01\n",
      "[3,]   2  -7.70    0.01\n",
      "[4,]   3  -6.32    0.01\n",
      "Type 3: with drift and trend \n",
      "     lag    ADF p.value\n",
      "[1,]   0 -12.56    0.01\n",
      "[2,]   1  -9.54    0.01\n",
      "[3,]   2  -7.67    0.01\n",
      "[4,]   3  -6.31    0.01\n",
      "---- \n",
      "Note: in fact, p.value = 0.01 means p.value <= 0.01 \n"
     ]
    }
   ],
   "source": [
    "# Uji Stationeritas\n",
    "library(aTSA)\n",
    "adf.test(diff(tsdata[,\"LnIHK\"]))\n",
    "adf.test(diff(tsdata[,\"LnRM2\"]))\n",
    "adf.test(diff(tsdata[,\"LnIPI\"]))"
   ]
  },
  {
   "cell_type": "markdown",
   "metadata": {
    "vscode": {
     "languageId": "r"
    }
   },
   "source": [
    "#### 3.1.1.1 Uji Lag Optimum"
   ]
  },
  {
   "cell_type": "code",
   "execution_count": 12,
   "metadata": {
    "vscode": {
     "languageId": "r"
    }
   },
   "outputs": [
    {
     "name": "stderr",
     "output_type": "stream",
     "text": [
      "Loading required package: MASS\n",
      "\n",
      "Loading required package: strucchange\n",
      "\n",
      "Loading required package: zoo\n",
      "\n",
      "\n",
      "Attaching package: 'zoo'\n",
      "\n",
      "\n",
      "The following objects are masked from 'package:base':\n",
      "\n",
      "    as.Date, as.Date.numeric\n",
      "\n",
      "\n",
      "Loading required package: sandwich\n",
      "\n",
      "Loading required package: lmtest\n",
      "\n",
      "\n",
      "Attaching package: 'vars'\n",
      "\n",
      "\n",
      "The following object is masked from 'package:aTSA':\n",
      "\n",
      "    arch.test\n",
      "\n",
      "\n"
     ]
    },
    {
     "data": {
      "text/html": [
       "<dl>\n",
       "\t<dt>$selection</dt>\n",
       "\t\t<dd><style>\n",
       ".dl-inline {width: auto; margin:0; padding: 0}\n",
       ".dl-inline>dt, .dl-inline>dd {float: none; width: auto; display: inline-block}\n",
       ".dl-inline>dt::after {content: \":\\0020\"; padding-right: .5ex}\n",
       ".dl-inline>dt:not(:first-of-type) {padding-left: .5ex}\n",
       "</style><dl class=dl-inline><dt>AIC(n)</dt><dd>9</dd><dt>HQ(n)</dt><dd>2</dd><dt>SC(n)</dt><dd>2</dd><dt>FPE(n)</dt><dd>9</dd></dl>\n",
       "</dd>\n",
       "\t<dt>$criteria</dt>\n",
       "\t\t<dd><table class=\"dataframe\">\n",
       "<caption>A matrix: 4 × 10 of type dbl</caption>\n",
       "<thead>\n",
       "\t<tr><th></th><th scope=col>1</th><th scope=col>2</th><th scope=col>3</th><th scope=col>4</th><th scope=col>5</th><th scope=col>6</th><th scope=col>7</th><th scope=col>8</th><th scope=col>9</th><th scope=col>10</th></tr>\n",
       "</thead>\n",
       "<tbody>\n",
       "\t<tr><th scope=row>AIC(n)</th><td>-2.454158e+01</td><td>-2.517704e+01</td><td>-2.527724e+01</td><td>-2.529876e+01</td><td>-2.531948e+01</td><td>-2.531117e+01</td><td>-2.509185e+01</td><td>-2.516992e+01</td><td>-2.557138e+01</td><td>-2.549790e+01</td></tr>\n",
       "\t<tr><th scope=row>HQ(n)</th><td>-2.438847e+01</td><td>-2.490910e+01</td><td>-2.489447e+01</td><td>-2.480116e+01</td><td>-2.470705e+01</td><td>-2.458391e+01</td><td>-2.424976e+01</td><td>-2.421299e+01</td><td>-2.449963e+01</td><td>-2.431131e+01</td></tr>\n",
       "\t<tr><th scope=row>SC(n)</th><td>-2.415612e+01</td><td>-2.450249e+01</td><td>-2.431360e+01</td><td>-2.404603e+01</td><td>-2.377765e+01</td><td>-2.348025e+01</td><td>-2.297184e+01</td><td>-2.276081e+01</td><td>-2.287319e+01</td><td>-2.251061e+01</td></tr>\n",
       "\t<tr><th scope=row>FPE(n)</th><td> 2.197302e-11</td><td> 1.165805e-11</td><td> 1.058765e-11</td><td> 1.043683e-11</td><td> 1.034191e-11</td><td> 1.060910e-11</td><td> 1.353419e-11</td><td> 1.293440e-11</td><td> 9.038835e-12</td><td> 1.028471e-11</td></tr>\n",
       "</tbody>\n",
       "</table>\n",
       "</dd>\n",
       "</dl>\n"
      ],
      "text/latex": [
       "\\begin{description}\n",
       "\\item[\\$selection] \\begin{description*}\n",
       "\\item[AIC(n)] 9\n",
       "\\item[HQ(n)] 2\n",
       "\\item[SC(n)] 2\n",
       "\\item[FPE(n)] 9\n",
       "\\end{description*}\n",
       "\n",
       "\\item[\\$criteria] A matrix: 4 × 10 of type dbl\n",
       "\\begin{tabular}{r|llllllllll}\n",
       "  & 1 & 2 & 3 & 4 & 5 & 6 & 7 & 8 & 9 & 10\\\\\n",
       "\\hline\n",
       "\tAIC(n) & -2.454158e+01 & -2.517704e+01 & -2.527724e+01 & -2.529876e+01 & -2.531948e+01 & -2.531117e+01 & -2.509185e+01 & -2.516992e+01 & -2.557138e+01 & -2.549790e+01\\\\\n",
       "\tHQ(n) & -2.438847e+01 & -2.490910e+01 & -2.489447e+01 & -2.480116e+01 & -2.470705e+01 & -2.458391e+01 & -2.424976e+01 & -2.421299e+01 & -2.449963e+01 & -2.431131e+01\\\\\n",
       "\tSC(n) & -2.415612e+01 & -2.450249e+01 & -2.431360e+01 & -2.404603e+01 & -2.377765e+01 & -2.348025e+01 & -2.297184e+01 & -2.276081e+01 & -2.287319e+01 & -2.251061e+01\\\\\n",
       "\tFPE(n) &  2.197302e-11 &  1.165805e-11 &  1.058765e-11 &  1.043683e-11 &  1.034191e-11 &  1.060910e-11 &  1.353419e-11 &  1.293440e-11 &  9.038835e-12 &  1.028471e-11\\\\\n",
       "\\end{tabular}\n",
       "\n",
       "\\end{description}\n"
      ],
      "text/markdown": [
       "$selection\n",
       ":   AIC(n)\n",
       ":   9HQ(n)\n",
       ":   2SC(n)\n",
       ":   2FPE(n)\n",
       ":   9\n",
       "\n",
       "\n",
       "$criteria\n",
       ":   \n",
       "A matrix: 4 × 10 of type dbl\n",
       "\n",
       "| <!--/--> | 1 | 2 | 3 | 4 | 5 | 6 | 7 | 8 | 9 | 10 |\n",
       "|---|---|---|---|---|---|---|---|---|---|---|\n",
       "| AIC(n) | -2.454158e+01 | -2.517704e+01 | -2.527724e+01 | -2.529876e+01 | -2.531948e+01 | -2.531117e+01 | -2.509185e+01 | -2.516992e+01 | -2.557138e+01 | -2.549790e+01 |\n",
       "| HQ(n) | -2.438847e+01 | -2.490910e+01 | -2.489447e+01 | -2.480116e+01 | -2.470705e+01 | -2.458391e+01 | -2.424976e+01 | -2.421299e+01 | -2.449963e+01 | -2.431131e+01 |\n",
       "| SC(n) | -2.415612e+01 | -2.450249e+01 | -2.431360e+01 | -2.404603e+01 | -2.377765e+01 | -2.348025e+01 | -2.297184e+01 | -2.276081e+01 | -2.287319e+01 | -2.251061e+01 |\n",
       "| FPE(n) |  2.197302e-11 |  1.165805e-11 |  1.058765e-11 |  1.043683e-11 |  1.034191e-11 |  1.060910e-11 |  1.353419e-11 |  1.293440e-11 |  9.038835e-12 |  1.028471e-11 |\n",
       "\n",
       "\n",
       "\n",
       "\n"
      ],
      "text/plain": [
       "$selection\n",
       "AIC(n)  HQ(n)  SC(n) FPE(n) \n",
       "     9      2      2      9 \n",
       "\n",
       "$criteria\n",
       "                   1             2             3             4             5\n",
       "AIC(n) -2.454158e+01 -2.517704e+01 -2.527724e+01 -2.529876e+01 -2.531948e+01\n",
       "HQ(n)  -2.438847e+01 -2.490910e+01 -2.489447e+01 -2.480116e+01 -2.470705e+01\n",
       "SC(n)  -2.415612e+01 -2.450249e+01 -2.431360e+01 -2.404603e+01 -2.377765e+01\n",
       "FPE(n)  2.197302e-11  1.165805e-11  1.058765e-11  1.043683e-11  1.034191e-11\n",
       "                   6             7             8             9            10\n",
       "AIC(n) -2.531117e+01 -2.509185e+01 -2.516992e+01 -2.557138e+01 -2.549790e+01\n",
       "HQ(n)  -2.458391e+01 -2.424976e+01 -2.421299e+01 -2.449963e+01 -2.431131e+01\n",
       "SC(n)  -2.348025e+01 -2.297184e+01 -2.276081e+01 -2.287319e+01 -2.251061e+01\n",
       "FPE(n)  1.060910e-11  1.353419e-11  1.293440e-11  9.038835e-12  1.028471e-11\n"
      ]
     },
     "metadata": {},
     "output_type": "display_data"
    }
   ],
   "source": [
    "library(urca)\n",
    "library(vars)\n",
    "# Lag Optimum\n",
    "VARselect(tsdata, lag.max = 10)"
   ]
  },
  {
   "cell_type": "markdown",
   "metadata": {
    "vscode": {
     "languageId": "r"
    }
   },
   "source": [
    "#### 3.1.1.2 Uji Kointegrasi"
   ]
  },
  {
   "cell_type": "code",
   "execution_count": 15,
   "metadata": {
    "vscode": {
     "languageId": "r"
    }
   },
   "outputs": [
    {
     "data": {
      "text/plain": [
       "\n",
       "###################### \n",
       "# Johansen-Procedure # \n",
       "###################### \n",
       "\n",
       "Test type: maximal eigenvalue statistic (lambda max) , without linear trend and constant in cointegration \n",
       "\n",
       "Eigenvalues (lambda):\n",
       "[1]  5.404113e-01  2.481996e-01  6.245216e-02 -2.633450e-15\n",
       "\n",
       "Values of teststatistic and critical values of test:\n",
       "\n",
       "          test 10pct  5pct  1pct\n",
       "r <= 2 |  5.03  7.52  9.24 12.97\n",
       "r <= 1 | 22.25 13.75 15.67 20.20\n",
       "r = 0  | 60.64 19.77 22.00 26.81\n",
       "\n",
       "Eigenvectors, normalised to first column:\n",
       "(These are the cointegration relations)\n",
       "\n",
       "           LnIHK.l2    LnRM2.l2   LnIPI.l2   constant\n",
       "LnIHK.l2  1.0000000  1.00000000  1.0000000  1.0000000\n",
       "LnRM2.l2 -0.1153114  0.08719842 -1.0510635 -0.6085127\n",
       "LnIPI.l2 -0.8107822 -1.31468643  0.2406645  0.1913803\n",
       "constant  0.4060887  0.96758544  4.8089173  0.5277719\n",
       "\n",
       "Weights W:\n",
       "(This is the loading matrix)\n",
       "\n",
       "           LnIHK.l2    LnRM2.l2    LnIPI.l2      constant\n",
       "LnIHK.d -0.07391103 -0.02494780 -0.03114995 -2.277816e-13\n",
       "LnRM2.d -0.06399547  0.08952368  0.07223974  4.294637e-13\n",
       "LnIPI.d -0.01046286  0.46857303 -0.03192575  8.303978e-13\n"
      ]
     },
     "metadata": {},
     "output_type": "display_data"
    }
   ],
   "source": [
    "# Uji Kointegrasi\n",
    "cointest_eigen = ca.jo(tsdata, K=2, type=\"eigen\", ecdet = \"const\", spec = \"longrun\")\n",
    "summary(cointest_eigen)"
   ]
  },
  {
   "cell_type": "markdown",
   "metadata": {
    "vscode": {
     "languageId": "r"
    }
   },
   "source": [
    "Hasil uji disimpan dalam cointest_eigen\n",
    "Informasi penting terdapat pada :\n",
    "r=0 yang menandakan bahwa tidak terdapat kointegrasi pada \n",
    "hipotesis nilai r<=1 terdapat kointegrasi\n",
    "hipotesis nilai r<=2 terdapat maksimal 2 kointegrasi\n",
    "\n",
    "Nilai tes dibandingkan dengan nilai statistik pada signifikansi 5%\n"
   ]
  },
  {
   "cell_type": "markdown",
   "metadata": {},
   "source": [
    "### 3.1.2 Estimasi"
   ]
  },
  {
   "cell_type": "code",
   "execution_count": 18,
   "metadata": {
    "vscode": {
     "languageId": "r"
    }
   },
   "outputs": [
    {
     "data": {
      "text/plain": [
       "Response LnIHK.d :\n",
       "\n",
       "Call:\n",
       "lm(formula = LnIHK.d ~ ect1 + LnIHK.dl1 + LnRM2.dl1 + LnIPI.dl1 - \n",
       "    1, data = data.mat)\n",
       "\n",
       "Residuals:\n",
       "      Min        1Q    Median        3Q       Max \n",
       "-0.015021 -0.005668 -0.001157  0.003871  0.027827 \n",
       "\n",
       "Coefficients:\n",
       "          Estimate Std. Error t value Pr(>|t|)    \n",
       "ect1      -0.07391    0.01199  -6.166 3.37e-08 ***\n",
       "LnIHK.dl1 -0.70491    0.10168  -6.933 1.31e-09 ***\n",
       "LnRM2.dl1  0.08470    0.06861   1.234    0.221    \n",
       "LnIPI.dl1 -0.01593    0.02695  -0.591    0.556    \n",
       "---\n",
       "Signif. codes:  0 '***' 0.001 '**' 0.01 '*' 0.05 '.' 0.1 ' ' 1\n",
       "\n",
       "Residual standard error: 0.008005 on 74 degrees of freedom\n",
       "Multiple R-squared:  0.6302,\tAdjusted R-squared:  0.6102 \n",
       "F-statistic: 31.53 on 4 and 74 DF,  p-value: 2.518e-15\n",
       "\n",
       "\n",
       "Response LnRM2.d :\n",
       "\n",
       "Call:\n",
       "lm(formula = LnRM2.d ~ ect1 + LnIHK.dl1 + LnRM2.dl1 + LnIPI.dl1 - \n",
       "    1, data = data.mat)\n",
       "\n",
       "Residuals:\n",
       "      Min        1Q    Median        3Q       Max \n",
       "-0.030921 -0.011339  0.001549  0.010970  0.044395 \n",
       "\n",
       "Coefficients:\n",
       "          Estimate Std. Error t value Pr(>|t|)   \n",
       "ect1      -0.06400    0.02313  -2.767  0.00715 **\n",
       "LnIHK.dl1  0.33519    0.19621   1.708  0.09177 . \n",
       "LnRM2.dl1 -0.30552    0.13241  -2.307  0.02383 * \n",
       "LnIPI.dl1  0.02765    0.05200   0.532  0.59650   \n",
       "---\n",
       "Signif. codes:  0 '***' 0.001 '**' 0.01 '*' 0.05 '.' 0.1 ' ' 1\n",
       "\n",
       "Residual standard error: 0.01545 on 74 degrees of freedom\n",
       "Multiple R-squared:  0.3241,\tAdjusted R-squared:  0.2875 \n",
       "F-statistic:  8.87 on 4 and 74 DF,  p-value: 6.604e-06\n",
       "\n",
       "\n",
       "Response LnIPI.d :\n",
       "\n",
       "Call:\n",
       "lm(formula = LnIPI.d ~ ect1 + LnIHK.dl1 + LnRM2.dl1 + LnIPI.dl1 - \n",
       "    1, data = data.mat)\n",
       "\n",
       "Residuals:\n",
       "      Min        1Q    Median        3Q       Max \n",
       "-0.094660 -0.011913  0.000434  0.021986  0.101991 \n",
       "\n",
       "Coefficients:\n",
       "          Estimate Std. Error t value Pr(>|t|)   \n",
       "ect1      -0.01046    0.05068  -0.206  0.83700   \n",
       "LnIHK.dl1 -0.08499    0.42988  -0.198  0.84383   \n",
       "LnRM2.dl1  0.21190    0.29009   0.730  0.46742   \n",
       "LnIPI.dl1 -0.35319    0.11394  -3.100  0.00274 **\n",
       "---\n",
       "Signif. codes:  0 '***' 0.001 '**' 0.01 '*' 0.05 '.' 0.1 ' ' 1\n",
       "\n",
       "Residual standard error: 0.03385 on 74 degrees of freedom\n",
       "Multiple R-squared:  0.1312,\tAdjusted R-squared:  0.08427 \n",
       "F-statistic: 2.794 on 4 and 74 DF,  p-value: 0.03214\n",
       "\n"
      ]
     },
     "metadata": {},
     "output_type": "display_data"
    }
   ],
   "source": [
    "# Estimasi VECM\n",
    "modelvecm = cajorls(cointest_eigen)\n",
    "summary(modelvecm$rlm)"
   ]
  },
  {
   "cell_type": "markdown",
   "metadata": {},
   "source": [
    "### 3.1.3 Evaluasi"
   ]
  },
  {
   "cell_type": "markdown",
   "metadata": {},
   "source": [
    "### 3.1.4 Forecast"
   ]
  },
  {
   "cell_type": "markdown",
   "metadata": {},
   "source": []
  }
 ],
 "metadata": {
  "kernelspec": {
   "display_name": "R",
   "language": "R",
   "name": "ir"
  },
  "language_info": {
   "codemirror_mode": "r",
   "file_extension": ".r",
   "mimetype": "text/x-r-source",
   "name": "R",
   "pygments_lexer": "r",
   "version": "4.4.1"
  }
 },
 "nbformat": 4,
 "nbformat_minor": 2
}
